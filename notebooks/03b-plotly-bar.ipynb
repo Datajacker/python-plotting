{
 "cells": [
  {
   "cell_type": "markdown",
   "metadata": {},
   "source": [
    "## Bar charts"
   ]
  },
  {
   "cell_type": "markdown",
   "metadata": {},
   "source": [
    "Lets set things up much like we did for our line plots of GDP per-capita data."
   ]
  },
  {
   "cell_type": "code",
   "execution_count": null,
   "metadata": {},
   "outputs": [],
   "source": [
    "import plotly.offline as py\n",
    "import numpy as np\n",
    "import plotly.graph_objs as go\n",
    "import pandas as pd\n",
    "\n",
    "py.init_notebook_mode(connected=False)\n",
    "\n",
    "df = pd.read_csv('data/gapminder_gdp_europe.csv', index_col='country')\n",
    "years = df.columns.str.strip('gdpPercap_')\n",
    "df.columns = years.astype(int)"
   ]
  },
  {
   "cell_type": "markdown",
   "metadata": {},
   "source": [
    "And we plot a line graph much as we did last time ..."
   ]
  },
  {
   "cell_type": "code",
   "execution_count": null,
   "metadata": {},
   "outputs": [],
   "source": [
    "trace0 = go.Scatter(\n",
    "    x = df.columns,\n",
    "    y = df.loc['Netherlands'],\n",
    "    name = 'Netherlands'\n",
    ")\n",
    "trace1 = go.Scatter(\n",
    "    x = df.columns,\n",
    "    y = df.loc['France'],\n",
    "    name = 'France'\n",
    ")\n",
    "\n",
    "data = [trace0, trace1]\n",
    "py.iplot(data)"
   ]
  },
  {
   "cell_type": "markdown",
   "metadata": {},
   "source": [
    "With only a little modification, we can create a bar chart instead."
   ]
  },
  {
   "cell_type": "code",
   "execution_count": null,
   "metadata": {},
   "outputs": [],
   "source": [
    "trace0 = go.Bar(\n",
    "    x = df.columns,\n",
    "    y = df.loc['Netherlands'],\n",
    "    name = 'Netherlands'\n",
    ")\n",
    "trace1 = go.Bar(\n",
    "    x = df.columns,\n",
    "    y = df.loc['France'],\n",
    "    name = 'France'\n",
    ")\n",
    "\n",
    "data = [trace0, trace1]\n",
    "py.iplot(data)"
   ]
  },
  {
   "cell_type": "markdown",
   "metadata": {},
   "source": [
    "This is a 'grouped bar chart' ... it is the default layout, so the following does the same thing:"
   ]
  },
  {
   "cell_type": "code",
   "execution_count": null,
   "metadata": {},
   "outputs": [],
   "source": [
    "layout = go.Layout(\n",
    "    barmode='group'\n",
    ")\n",
    "\n",
    "fig = go.Figure(data=data, layout=layout)\n",
    "py.iplot(fig)"
   ]
  },
  {
   "cell_type": "markdown",
   "metadata": {},
   "source": [
    "But we could also stack them if we want a sense of the combined sum -- note that hovering gives us the individual valued.\n",
    "\n",
    "(Lets add a title too.)"
   ]
  },
  {
   "cell_type": "code",
   "execution_count": null,
   "metadata": {},
   "outputs": [],
   "source": [
    "layout = go.Layout(\n",
    "    title='GPD per-capita',\n",
    "    barmode='stack'\n",
    ")\n",
    "\n",
    "fig = go.Figure(data=data, layout=layout)\n",
    "py.iplot(fig)"
   ]
  },
  {
   "cell_type": "code",
   "execution_count": null,
   "metadata": {},
   "outputs": [],
   "source": []
  }
 ],
 "metadata": {
  "kernelspec": {
   "display_name": "Python 3",
   "language": "python",
   "name": "python3"
  },
  "language_info": {
   "codemirror_mode": {
    "name": "ipython",
    "version": 3
   },
   "file_extension": ".py",
   "mimetype": "text/x-python",
   "name": "python",
   "nbconvert_exporter": "python",
   "pygments_lexer": "ipython3",
   "version": "3.7.3"
  }
 },
 "nbformat": 4,
 "nbformat_minor": 2
}
