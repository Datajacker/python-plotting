{
 "cells": [
  {
   "cell_type": "markdown",
   "metadata": {},
   "source": [
    "## Bar charts"
   ]
  },
  {
   "cell_type": "markdown",
   "metadata": {},
   "source": [
    "Lets set things up much like we did for our line plots of GDP per-capita data."
   ]
  },
  {
   "cell_type": "code",
   "execution_count": null,
   "metadata": {},
   "outputs": [],
   "source": [
    "import plotly.offline as py\n",
    "import numpy as np\n",
    "import plotly.graph_objs as go\n",
    "import pandas as pd\n",
    "\n",
    "py.init_notebook_mode(connected=False)"
   ]
  },
  {
   "cell_type": "markdown",
   "metadata": {},
   "source": [
    "People using Colab need this (initialization and download of supporting materials)"
   ]
  },
  {
   "cell_type": "code",
   "execution_count": null,
   "metadata": {},
   "outputs": [],
   "source": [
    "# Stuff for Colab ...\n",
    "import sys\n",
    "def enable_plotly_in_cell():\n",
    "  import IPython\n",
    "  from plotly.offline import init_notebook_mode\n",
    "  display(IPython.core.display.HTML('''\n",
    "        <script src=\"/static/components/requirejs/require.js\"></script>\n",
    "  '''))\n",
    "  init_notebook_mode(connected=False)\n",
    "\n",
    "if 'google.colab' in sys.modules:\n",
    "    get_ipython().events.register('pre_run_cell', enable_plotly_in_cell)\n",
    "    !mkdir -p data\n",
    "    !wget -P data https://raw.githubusercontent.com/ualberta-rcg/python-plotting/master/notebooks/data/gapminder_gdp_europe.csv\n",
    "    !mkdir -p solutions\n",
    "    !wget -P solutions https://github.com/ualberta-rcg/python-plotting/blob/master/notebooks/solutions/plotly-bar-chart-north-america.py"
   ]
  },
  {
   "cell_type": "markdown",
   "metadata": {},
   "source": [
    "Load the file into a data frame:"
   ]
  },
  {
   "cell_type": "code",
   "execution_count": null,
   "metadata": {},
   "outputs": [],
   "source": [
    "df = pd.read_csv('data/gapminder_gdp_europe.csv', index_col='country')\n",
    "years = df.columns.str.strip('gdpPercap_')\n",
    "df.columns = years.astype(int)"
   ]
  },
  {
   "cell_type": "markdown",
   "metadata": {},
   "source": [
    "And we plot a line graph much as we did last time ..."
   ]
  },
  {
   "cell_type": "code",
   "execution_count": null,
   "metadata": {},
   "outputs": [],
   "source": [
    "trace0 = go.Scatter(\n",
    "    x = df.columns,\n",
    "    y = df.loc['Netherlands'],\n",
    "    name = 'Netherlands'\n",
    ")\n",
    "trace1 = go.Scatter(\n",
    "    x = df.columns,\n",
    "    y = df.loc['France'],\n",
    "    name = 'France'\n",
    ")\n",
    "\n",
    "data = [trace0, trace1]\n",
    "py.iplot(data)"
   ]
  },
  {
   "cell_type": "markdown",
   "metadata": {},
   "source": [
    "With only a little modification, we can create a bar chart instead."
   ]
  },
  {
   "cell_type": "code",
   "execution_count": null,
   "metadata": {},
   "outputs": [],
   "source": [
    "trace0 = go.Bar(\n",
    "    x = df.columns,\n",
    "    y = df.loc['Netherlands'],\n",
    "    name = 'Netherlands'\n",
    ")\n",
    "trace1 = go.Bar(\n",
    "    x = df.columns,\n",
    "    y = df.loc['France'],\n",
    "    name = 'France'\n",
    ")\n",
    "\n",
    "data = [trace0, trace1]\n",
    "py.iplot(data)"
   ]
  },
  {
   "cell_type": "markdown",
   "metadata": {},
   "source": [
    "This is a 'grouped bar chart' ... it is the default layout, so the following does the same thing:"
   ]
  },
  {
   "cell_type": "code",
   "execution_count": null,
   "metadata": {},
   "outputs": [],
   "source": [
    "layout = go.Layout(\n",
    "    barmode='group'\n",
    ")\n",
    "\n",
    "fig = go.Figure(data=data, layout=layout)\n",
    "py.iplot(fig)"
   ]
  },
  {
   "cell_type": "markdown",
   "metadata": {},
   "source": [
    "But we could also stack them if we want a sense of the combined sum -- note that hovering gives us the individual valued.\n",
    "\n",
    "(Lets add a title too.)"
   ]
  },
  {
   "cell_type": "code",
   "execution_count": null,
   "metadata": {},
   "outputs": [],
   "source": [
    "layout = go.Layout(\n",
    "    title='GPD per-capita',\n",
    "    barmode='stack'\n",
    ")\n",
    "\n",
    "fig = go.Figure(data=data, layout=layout)\n",
    "py.iplot(fig)"
   ]
  },
  {
   "cell_type": "markdown",
   "metadata": {},
   "source": [
    "## Exercise"
   ]
  },
  {
   "cell_type": "markdown",
   "metadata": {},
   "source": [
    "Let's grab some North American GDP data (code to download below).\n",
    "\n",
    "Using what you learned here and in the scatter plot section, do the following:\n",
    "\n",
    "* Using this data set, make a bar chart of the per-capita GDP growth of Canada, the United States, and Mexico.\n",
    "* Label the chart \"Per-capita GDP Growth in North America\".\n",
    "* Make the Canada bar red, the US bar blue, and the Mexico bar green. **Hint!** Check the documentation on how to set the color of the bars: https://plot.ly/python/bar-charts/\n",
    "* Label the axes!"
   ]
  },
  {
   "cell_type": "code",
   "execution_count": null,
   "metadata": {},
   "outputs": [],
   "source": [
    "# Grabbing the data:\n",
    "!mkdir -p data\n",
    "!wget -P data https://raw.githubusercontent.com/ualberta-rcg/python-intro/gh-pages/data/gapminder_gdp_americas.csv"
   ]
  },
  {
   "cell_type": "code",
   "execution_count": null,
   "metadata": {},
   "outputs": [],
   "source": [
    "df = pd.read_csv('data/gapminder_gdp_americas.csv', index_col='country')\n",
    "# A little trick with a continent column we don't need\n",
    "df = df.drop(columns=['continent'])\n",
    "years = df.columns.str.strip('gdpPercap_')\n",
    "df.columns = years.astype(int)\n",
    "\n",
    "# Your code goes here ..."
   ]
  },
  {
   "cell_type": "code",
   "execution_count": null,
   "metadata": {},
   "outputs": [],
   "source": [
    "# PRINT SOLUTION (copy/paste output into a cell to run)\n",
    "!cat solutions/plotly-bar-chart-north-america.py"
   ]
  }
 ],
 "metadata": {
  "kernelspec": {
   "display_name": "Python 3",
   "language": "python",
   "name": "python3"
  },
  "language_info": {
   "codemirror_mode": {
    "name": "ipython",
    "version": 3
   },
   "file_extension": ".py",
   "mimetype": "text/x-python",
   "name": "python",
   "nbconvert_exporter": "python",
   "pygments_lexer": "ipython3",
   "version": "3.7.3"
  }
 },
 "nbformat": 4,
 "nbformat_minor": 2
}
