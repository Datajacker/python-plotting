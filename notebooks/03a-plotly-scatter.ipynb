{
 "cells": [
  {
   "cell_type": "markdown",
   "metadata": {},
   "source": [
    "# Plotly"
   ]
  },
  {
   "cell_type": "markdown",
   "metadata": {},
   "source": [
    "## Installing the dependencies\n",
    "\n",
    "We need to make sure that we have all of the dependencies we need installed. If you haven't already, please install the required python packages. You can do this inside this notebook by using:"
   ]
  },
  {
   "cell_type": "code",
   "execution_count": null,
   "metadata": {},
   "outputs": [],
   "source": [
    "!pip install plotly numpy pandas"
   ]
  },
  {
   "cell_type": "markdown",
   "metadata": {},
   "source": [
    "By default, plotly wants to use the online cloud product for displaying visualizations. So for a lot of tutorials you will see a line like:\n",
    "\n",
    "```\n",
    "import plotly.plotly as py\n",
    "```\n",
    "\n",
    "If you do the above, then try to plot in your notebook, plotly will complain about not having an API key.\n",
    "\n",
    "But we don't want that: we want to show our visualizations in a note book. To do so, we do the following:"
   ]
  },
  {
   "cell_type": "code",
   "execution_count": null,
   "metadata": {},
   "outputs": [],
   "source": [
    "import plotly.offline as py\n",
    "py.init_notebook_mode(connected=False)"
   ]
  },
  {
   "cell_type": "markdown",
   "metadata": {},
   "source": [
    "Users of Colab need one more thing for Plotly version 4 to run inside cells in notebooks:"
   ]
  },
  {
   "cell_type": "code",
   "execution_count": null,
   "metadata": {},
   "outputs": [],
   "source": [
    "import sys\n",
    "\n",
    "def enable_plotly_in_cell():\n",
    "  import IPython\n",
    "  from plotly.offline import init_notebook_mode\n",
    "  display(IPython.core.display.HTML('''\n",
    "        <script src=\"/static/components/requirejs/require.js\"></script>\n",
    "  '''))\n",
    "  init_notebook_mode(connected=False)\n",
    "\n",
    "if 'google.colab' in sys.modules:\n",
    "    get_ipython().events.register('pre_run_cell', enable_plotly_in_cell)"
   ]
  },
  {
   "cell_type": "markdown",
   "metadata": {},
   "source": [
    "### Creating random points\n",
    "\n",
    "We'll create some random data points: one array for the x values, one array for y values, a hundred numbers in each.\n",
    "\n",
    "[`numpy.random.randn`](https://docs.scipy.org/doc/numpy/reference/generated/numpy.random.randn.html) samples points from a standard normal distribution (mean 0, standard deviation 1)."
   ]
  },
  {
   "cell_type": "code",
   "execution_count": null,
   "metadata": {},
   "outputs": [],
   "source": [
    "# Create random data with numpy\n",
    "import numpy as np\n",
    "\n",
    "N = 100\n",
    "\n",
    "random_x = np.random.randn(N)\n",
    "random_y = np.random.randn(N)\n",
    "\n",
    "# Poke around with one of these\n",
    "print(\"Length:\", len(random_x))\n",
    "print(\"First ten values:\", random_x[0:9])"
   ]
  },
  {
   "cell_type": "markdown",
   "metadata": {},
   "source": [
    "The `graph_objs` submodule of plotly has functions that will create our graph objects for us.\n",
    "\n",
    "A **trace** is just the name we give a collection of data and the specifications of which we want that data plotted. This terminology is used a lot in the plotly documentation. We can have any number of traces in a plot.\n",
    "\n",
    "## Scatter plots\n",
    "\n",
    "Here we will create a trace for a basic scatter plot, with the data coming from our generated data above."
   ]
  },
  {
   "cell_type": "code",
   "execution_count": null,
   "metadata": {},
   "outputs": [],
   "source": [
    "import plotly.graph_objs as go\n",
    "\n",
    "# Create a trace\n",
    "trace = go.Scatter(\n",
    "    x = random_x,\n",
    "    y = random_y,\n",
    "    mode = 'markers'\n",
    ")"
   ]
  },
  {
   "cell_type": "markdown",
   "metadata": {},
   "source": [
    "Note that nothing was plotted yet!\n",
    "\n",
    "We can now plot the data in the notebook using the function `py.iplot`. Notice that the first argument is for supplying data. This can be a list of traces to plot (a list because we might want to plot more than one trace in a single plot)."
   ]
  },
  {
   "cell_type": "code",
   "execution_count": null,
   "metadata": {},
   "outputs": [],
   "source": [
    "data = [trace]\n",
    "py.iplot(data)"
   ]
  },
  {
   "cell_type": "markdown",
   "metadata": {},
   "source": [
    "Play around with the user interface (TODO: say more about this)"
   ]
  },
  {
   "cell_type": "markdown",
   "metadata": {},
   "source": [
    "Rather than embedding the plot, we can also use the `py.plot` function to export our plot to an html file that we can put online, or email to a colleague. The function returns the URL of the html file, but frequently the plot will open up in another browser window. This function writes an html file at the location you provide in the `filename` keyword parameter."
   ]
  },
  {
   "cell_type": "code",
   "execution_count": null,
   "metadata": {},
   "outputs": [],
   "source": [
    "# Using `plot` instead of `iplot`\n",
    "\n",
    "plot_url = py.plot(data, filename='my-first-scatter.html')\n",
    "print(\"URL to my plot is\", plot_url)"
   ]
  },
  {
   "cell_type": "markdown",
   "metadata": {},
   "source": [
    "A warning though: the HTML file produced will be pretty huge."
   ]
  },
  {
   "cell_type": "markdown",
   "metadata": {},
   "source": [
    "Users of Colab need some extra code to get the HTML file:"
   ]
  },
  {
   "cell_type": "code",
   "execution_count": null,
   "metadata": {},
   "outputs": [],
   "source": [
    "if 'google.colab' in sys.modules:\n",
    "  from google.colab import files\n",
    "  files.download('my-first-scatter.html')"
   ]
  },
  {
   "cell_type": "markdown",
   "metadata": {},
   "source": [
    "There are a lot of options to modify the visual appearance of the scatter plot. For example we can connect the data points in the order they appear in the arrays:"
   ]
  },
  {
   "cell_type": "code",
   "execution_count": null,
   "metadata": {},
   "outputs": [],
   "source": [
    "trace = go.Scatter(\n",
    "    x = random_x,\n",
    "    y = random_y,\n",
    "    mode = 'lines'\n",
    ")\n",
    "data = [trace]\n",
    "py.iplot(data)"
   ]
  },
  {
   "cell_type": "markdown",
   "metadata": {},
   "source": [
    "Or we can have both dots and lines:"
   ]
  },
  {
   "cell_type": "code",
   "execution_count": null,
   "metadata": {},
   "outputs": [],
   "source": [
    "py.iplot([go.Scatter(x = random_x,\n",
    "                     y = random_y,\n",
    "                     mode = 'markers+lines')])"
   ]
  },
  {
   "cell_type": "markdown",
   "metadata": {},
   "source": [
    "Notice that we reduced three separate python statements into one statement above. We did not create a `trace` variable or a `data` variable as intermediate results.\n",
    "\n",
    "If this approach matches the style you prefer, then this is prefectly valid code, but it can make things harder to read (but might make things easier to modify in some situations)."
   ]
  },
  {
   "cell_type": "markdown",
   "metadata": {},
   "source": [
    "### What about those scatterplots where the dots change size because of another variable?\n",
    "\n",
    "This is something we can easily do by creating another random numpy array to hold size information, and set that as a configuration for the marker:"
   ]
  },
  {
   "cell_type": "code",
   "execution_count": null,
   "metadata": {},
   "outputs": [],
   "source": [
    "# Size must be positive and be big enough to see!\n",
    "random_size = np.absolute(np.random.randn(N)) * 30\n",
    "\n",
    "trace = go.Scatter(\n",
    "    x = random_x,\n",
    "    y = random_y,\n",
    "    mode = 'markers',\n",
    "    marker = {'size': random_size}\n",
    ")\n",
    "data = [trace]\n",
    "py.iplot(data)"
   ]
  },
  {
   "cell_type": "markdown",
   "metadata": {},
   "source": [
    "### But I want a graph ..., you know, a line graph ...\n",
    "\n",
    "Lets create a hundred linear points in the x direction, evenly spaced between zero and one. The function [numpy.linspace](https://docs.scipy.org/doc/numpy/reference/generated/numpy.linspace.html) does this for us."
   ]
  },
  {
   "cell_type": "code",
   "execution_count": null,
   "metadata": {},
   "outputs": [],
   "source": [
    "linear_x = np.linspace(0, 1, N)\n",
    "\n",
    "# Poke around ...\n",
    "print(\"Length:\", len(linear_x))\n",
    "print(\"First ten values:\", linear_x[0:9])"
   ]
  },
  {
   "cell_type": "markdown",
   "metadata": {},
   "source": [
    "We can now make something that looks like a traditional graph:"
   ]
  },
  {
   "cell_type": "code",
   "execution_count": null,
   "metadata": {},
   "outputs": [],
   "source": [
    "trace = go.Scatter(\n",
    "    x = linear_x,\n",
    "    y = random_y,\n",
    "    mode = 'lines'\n",
    ")\n",
    "data = [trace]\n",
    "py.iplot(data)"
   ]
  },
  {
   "cell_type": "markdown",
   "metadata": {},
   "source": [
    "### But I want two graphs...\n",
    "\n",
    "Let's create two random sets of Y values to plot:"
   ]
  },
  {
   "cell_type": "code",
   "execution_count": null,
   "metadata": {},
   "outputs": [],
   "source": [
    "# Mean 0, standard deviation 1\n",
    "random_y0 = np.random.randn(N)\n",
    "\n",
    "# Mean 2, standard deviation 1\n",
    "# Nudge the values up for these guys so the mean is 2 ...\n",
    "random_y1 = np.random.randn(N) + 2"
   ]
  },
  {
   "cell_type": "markdown",
   "metadata": {},
   "source": [
    "As mentioned earlier, we can plot multiple data sets by adding more traces to the array we pass to `iplot`:"
   ]
  },
  {
   "cell_type": "code",
   "execution_count": null,
   "metadata": {},
   "outputs": [],
   "source": [
    "trace0 = go.Scatter(\n",
    "    x = linear_x,\n",
    "    y = random_y0,\n",
    "    mode = 'lines'\n",
    ")\n",
    "trace1 = go.Scatter(\n",
    "    x = linear_x,\n",
    "    y = random_y1,\n",
    "    mode = 'lines+markers'\n",
    ")\n",
    "\n",
    "data = [trace0, trace1]\n",
    "py.iplot(data)"
   ]
  },
  {
   "cell_type": "markdown",
   "metadata": {},
   "source": [
    "Check out the cool hover effects ..."
   ]
  },
  {
   "cell_type": "markdown",
   "metadata": {},
   "source": [
    "### Exercise\n",
    "\n",
    "The code above is repeated below.\n",
    "\n",
    "Modify the code:\n",
    "* Generate another random data set called `random_y2`. This data should be sampled from a distribution with mean `-2`.\n",
    "* Create a third trace called `trace2` using this data.\n",
    "* Plot all three datasets. We want `trace2` to be represented as markers only."
   ]
  },
  {
   "cell_type": "code",
   "execution_count": null,
   "metadata": {},
   "outputs": [],
   "source": [
    "# Your code here ...\n",
    "# Modify this code as described above\n",
    "\n",
    "trace0 = go.Scatter(\n",
    "    x = linear_x,\n",
    "    y = random_y0,\n",
    "    mode = 'lines'\n",
    ")\n",
    "trace1 = go.Scatter(\n",
    "    x = linear_x,\n",
    "    y = random_y1,\n",
    "    mode = 'lines+markers'\n",
    ")\n",
    "\n",
    "data = [trace0, trace1]\n",
    "py.iplot(data)"
   ]
  },
  {
   "cell_type": "code",
   "execution_count": null,
   "metadata": {},
   "outputs": [],
   "source": [
    "%load solutions/plotly-scatter-add-trace2.py\n",
    "\n",
    "# SOLUTION\n",
    "# Run this cell once to load the solution\n",
    "# Run this cell a second time to actually run the code\n",
    "# ... or download from https://raw.githubusercontent.com/ualberta-rcg/python-plotting/master/notebooks/solutions/plotly-scatter-add-trace2.py"
   ]
  },
  {
   "cell_type": "markdown",
   "metadata": {},
   "source": [
    "We can modify traces after the fact. Let's make the dotty-ist graph ever.\n",
    "\n",
    "Notice that we don't have to redefine `data` below if we don't want to ... it is an array of **references** to the traces."
   ]
  },
  {
   "cell_type": "code",
   "execution_count": null,
   "metadata": {},
   "outputs": [],
   "source": [
    "trace0.mode = \"markers\"\n",
    "trace1.mode = \"markers\"\n",
    "py.iplot(data)"
   ]
  },
  {
   "cell_type": "markdown",
   "metadata": {},
   "source": [
    "### We can control many more aspects of the visual representation of our plots\n",
    "\n",
    "Some obvious choices are:\n",
    "* color\n",
    "* marker size\n",
    "* marker color\n",
    "* line width\n",
    "* line color\n",
    "* name (that shows up in the legend)\n",
    "\n",
    "Some of the options to do this become a bit arcane, so the [scatter documentation](https://plot.ly/python/line-and-scatter/) will be your friend...\n",
    "\n",
    "Here is an example:"
   ]
  },
  {
   "cell_type": "code",
   "execution_count": null,
   "metadata": {},
   "outputs": [],
   "source": [
    "trace0 = go.Scatter(\n",
    "    x = linear_x,\n",
    "    y = random_y0,\n",
    "    mode = 'lines+markers',\n",
    "    name = 'Size of thing',\n",
    "    marker = dict(\n",
    "      size = 10,\n",
    "      color = 'rgba(255, 182, 193, .9)',\n",
    "      line = dict(\n",
    "        width = 2,\n",
    "      )\n",
    "    ),\n",
    ")\n",
    "trace1 = go.Scatter(\n",
    "    x = linear_x,\n",
    "    y = random_y1,\n",
    "    mode = 'lines',\n",
    "    name = 'Size of other thing',\n",
    "    line = dict(\n",
    "      width = 5,\n",
    "      color = 'rgba(50, 50, 255, .5)',\n",
    "    )\n",
    ")\n",
    "\n",
    "data = [trace0, trace1]\n",
    "py.iplot(data)"
   ]
  },
  {
   "cell_type": "markdown",
   "metadata": {},
   "source": [
    "### No, I want a green line instead\n",
    "\n",
    "Again, we can edit these styles after the fact, then re-plot ..."
   ]
  },
  {
   "cell_type": "code",
   "execution_count": null,
   "metadata": {},
   "outputs": [],
   "source": [
    "trace1.line['color'] = 'rgba(50, 255, 50, .5)'\n",
    "py.iplot(data)"
   ]
  },
  {
   "cell_type": "markdown",
   "metadata": {},
   "source": [
    "### Exercise\n",
    "\n",
    "Change the name of `trace1` to be `Size of stuff` and replot."
   ]
  },
  {
   "cell_type": "code",
   "execution_count": null,
   "metadata": {},
   "outputs": [],
   "source": [
    "# Your code here ..."
   ]
  },
  {
   "cell_type": "code",
   "execution_count": null,
   "metadata": {},
   "outputs": [],
   "source": [
    "%load solutions/plotly-scatter-size-of-stuff.py\n",
    "\n",
    "# SOLUTION\n",
    "# Run this cell once to load the solution\n",
    "# Run this cell a second time to actually run the code\n",
    "# ... or download from https://raw.githubusercontent.com/ualberta-rcg/python-plotting/master/notebooks/solutions/plotly-scatter-size-of-stuff.py"
   ]
  },
  {
   "cell_type": "markdown",
   "metadata": {},
   "source": [
    "### Yeah, but you should always label your axes and have a title\n",
    "\n",
    "For plotly, we need to pass `iplot` a **figure**: a `dict` that describes the data and layout.\n",
    "Here's an example ..."
   ]
  },
  {
   "cell_type": "code",
   "execution_count": null,
   "metadata": {},
   "outputs": [],
   "source": [
    "layout = dict(title = 'The size of a couple of things',\n",
    "              xaxis = dict(title = 'Time (Seconds)'),\n",
    "              yaxis = dict(title = 'Width (inches)')\n",
    "             )\n",
    "# Create the figure\n",
    "fig = dict(data=data, layout=layout)\n",
    "\n",
    "# Plot the figure\n",
    "py.iplot(fig)"
   ]
  },
  {
   "cell_type": "markdown",
   "metadata": {},
   "source": [
    "### Yeah, but my data is in a Pandas dataframe\n",
    "\n",
    "Lets grab one of those Gapminder datasets (Europe), and convert the columns to nice numeric values."
   ]
  },
  {
   "cell_type": "markdown",
   "metadata": {},
   "source": [
    "Colab users will need to download the data first:"
   ]
  },
  {
   "cell_type": "code",
   "execution_count": null,
   "metadata": {},
   "outputs": [],
   "source": [
    "if 'google.colab' in sys.modules:\n",
    "    !mkdir -p data\n",
    "    !wget -P data https://raw.githubusercontent.com/ualberta-rcg/python-plotting/master/notebooks/data/gapminder_gdp_europe.csv"
   ]
  },
  {
   "cell_type": "markdown",
   "metadata": {},
   "source": [
    "Now load the data into a dataframe"
   ]
  },
  {
   "cell_type": "code",
   "execution_count": null,
   "metadata": {},
   "outputs": [],
   "source": [
    "import pandas as pd\n",
    "\n",
    "df = pd.read_csv('data/gapminder_gdp_europe.csv', index_col='country')\n",
    "\n",
    "print(\"Yucky columns:\", df.columns )\n",
    "\n",
    "# Extract year from last 4 characters of each column name\n",
    "years = df.columns.str.strip('gdpPercap_')\n",
    "\n",
    "# Convert year values to integers, saving results back to dataframe\n",
    "df.columns = years.astype(int)\n",
    "print(\"Nice columns:\", df.columns )\n",
    "\n",
    "# Look at the first five rows...\n",
    "df.head()"
   ]
  },
  {
   "cell_type": "markdown",
   "metadata": {},
   "source": [
    "We can now slice our dataframe to plot it. Here we plot GDP per-capita data for the Netherlands and France."
   ]
  },
  {
   "cell_type": "code",
   "execution_count": null,
   "metadata": {},
   "outputs": [],
   "source": [
    "trace0 = go.Scatter(\n",
    "    x = df.columns,\n",
    "    y = df.loc['Netherlands'],\n",
    "    mode = 'lines'\n",
    ")\n",
    "trace1 = go.Scatter(\n",
    "    x = df.columns,\n",
    "    y = df.loc['France'],\n",
    "    mode = 'lines+markers'\n",
    ")\n",
    "\n",
    "data = [trace0, trace1]\n",
    "py.iplot(data)"
   ]
  },
  {
   "cell_type": "markdown",
   "metadata": {},
   "source": [
    "### Exercise\n",
    "\n",
    "That last graph was awesome ... BUT:\n",
    "\n",
    "* The graph should be titled 'GDP per-capita for the Netherlands and France'\n",
    "* The Netherlands graph is called 'trace 0', and the France graph is called 'trace 1'. They should be named after the country.\n",
    "* The x-axis should be labeled 'Year'\n",
    "* The y-axis should be labeled 'GDP per-capita'\n",
    "* The France graph should be blue (`'rgb(0, 0, 255)'`) and the Netherlands graph should be orange (`'rgb(255, 127, 0)'`)\n",
    "\n",
    "Apply what you have learned in this notebook to fix the graph!"
   ]
  },
  {
   "cell_type": "code",
   "execution_count": null,
   "metadata": {},
   "outputs": [],
   "source": [
    "# Your code here ..."
   ]
  },
  {
   "cell_type": "code",
   "execution_count": null,
   "metadata": {},
   "outputs": [],
   "source": [
    "%load solutions/plotly-scatter-netherlands-france.py\n",
    "\n",
    "# SOLUTION\n",
    "# Run this cell once to load the solution\n",
    "# Run this cell a second time to actually run the code\n",
    "# ... or download from https://raw.githubusercontent.com/ualberta-rcg/python-plotting/master/notebooks/solutions/plotly-scatter-netherlands-france.py"
   ]
  },
  {
   "cell_type": "markdown",
   "metadata": {},
   "source": [
    "### Summary\n",
    "\n",
    "Here are some key points:\n",
    "\n",
    "* Data is organized in traces, which hold x,y data and style information\n",
    "* `iplot` puts a plot in a notebook, `plot` generates a web page.\n",
    "* One or more traces can be plotted as data\n",
    "* Data can be combined with layout to make a figure\n",
    "\n",
    "We will see this same overall pattern with other types of plotly plot types.\n",
    "\n",
    "What we have seen so far is the tip of the iceberg: consult the Plotly documentation (and Stackoverflow) to find out all the options."
   ]
  }
 ],
 "metadata": {
  "kernelspec": {
   "display_name": "Python 3",
   "language": "python",
   "name": "python3"
  },
  "language_info": {
   "codemirror_mode": {
    "name": "ipython",
    "version": 3
   },
   "file_extension": ".py",
   "mimetype": "text/x-python",
   "name": "python",
   "nbconvert_exporter": "python",
   "pygments_lexer": "ipython3",
   "version": "3.7.3"
  }
 },
 "nbformat": 4,
 "nbformat_minor": 2
}
