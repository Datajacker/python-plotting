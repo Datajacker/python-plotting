{
 "cells": [
  {
   "cell_type": "code",
   "execution_count": null,
   "metadata": {},
   "outputs": [],
   "source": [
    "import plotly.offline as py\n",
    "import plotly.graph_objs as go\n",
    "py.init_notebook_mode(connected=False)"
   ]
  },
  {
   "cell_type": "code",
   "execution_count": null,
   "metadata": {},
   "outputs": [],
   "source": [
    "import numpy as np\n",
    "\n",
    "# Create 2D array to hold values\n",
    "# Number of columns is width\n",
    "# Number of rows is height\n",
    "\n",
    "height = 16\n",
    "width = 18\n",
    "\n",
    "z = np.zeros(shape=(width,height))\n",
    "\n",
    "# Convert column into physical x location\n",
    "def get_x(column, width):\n",
    "    return (column - width/2)\n",
    "\n",
    "# Convert row into physical y location\n",
    "def get_y(row, height):\n",
    "    return (row - height/2)\n",
    "\n",
    "# A paraboloid\n",
    "def f(x, y):\n",
    "    return(x**2 + y**2)\n",
    "\n",
    "# Compute 2d arrays of z values for the paraboloid\n",
    "for row in range(width):\n",
    "    for column in range(height):\n",
    "        x = get_x(column, width)\n",
    "        y = get_y(row, height)\n",
    "        z[row][column] = f(x,y)\n",
    "\n",
    "x = [get_x(column, width) for column in range(width)]\n",
    "y = [get_y(row, height) for row in range(height)]"
   ]
  },
  {
   "cell_type": "code",
   "execution_count": null,
   "metadata": {},
   "outputs": [],
   "source": [
    "data = [\n",
    "    go.Heatmap(\n",
    "        x=x,\n",
    "        y=y,\n",
    "        z=z,\n",
    "    )\n",
    "]\n",
    "py.iplot(data)"
   ]
  },
  {
   "cell_type": "markdown",
   "metadata": {},
   "source": [
    "['Greys', 'YlGnBu', 'Greens', 'YlOrRd', 'Bluered', 'RdBu',\n",
    "            'Reds', 'Blues', 'Picnic', 'Rainbow', 'Portland', 'Jet',\n",
    "            'Hot', 'Blackbody', 'Earth', 'Electric', 'Viridis', 'Cividis']"
   ]
  },
  {
   "cell_type": "code",
   "execution_count": null,
   "metadata": {},
   "outputs": [],
   "source": [
    "data = [\n",
    "    go.Contour(\n",
    "        x=x,\n",
    "        y=y,\n",
    "        z=z,\n",
    "        colorscale='Jet'\n",
    "    )\n",
    "]\n",
    "\n",
    "py.iplot(data)"
   ]
  },
  {
   "cell_type": "code",
   "execution_count": null,
   "metadata": {},
   "outputs": [],
   "source": [
    "data = [\n",
    "    go.Surface(\n",
    "        x=x,\n",
    "        y=y,\n",
    "        z=z,\n",
    "        colorscale = [[0.0, 'rgb(0,0,255)'],\n",
    "                      [0.5, 'rgb(51,51,51)'],\n",
    "                      [1.0, 'rgb(255,0,0)']]\n",
    "    )\n",
    "]\n",
    "layout = go.Layout(\n",
    "    title='Real 3d stuff'\n",
    ")\n",
    "fig = go.Figure(data=data, layout=layout)\n",
    "py.iplot(fig)"
   ]
  }
 ],
 "metadata": {
  "kernelspec": {
   "display_name": "Python 3",
   "language": "python",
   "name": "python3"
  },
  "language_info": {
   "codemirror_mode": {
    "name": "ipython",
    "version": 3
   },
   "file_extension": ".py",
   "mimetype": "text/x-python",
   "name": "python",
   "nbconvert_exporter": "python",
   "pygments_lexer": "ipython3",
   "version": "3.7.3"
  }
 },
 "nbformat": 4,
 "nbformat_minor": 2
}
